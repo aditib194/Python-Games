{
 "cells": [
  {
   "cell_type": "code",
   "execution_count": 1,
   "metadata": {},
   "outputs": [],
   "source": [
    "def display_board(board):\n",
    "    from IPython.display import clear_output\n",
    "    clear_output()\n",
    "    print(board[1]+'|'+board[2]+'|'+board[3])\n",
    "    print(board[4]+'|'+board[5]+'|'+board[6])\n",
    "    print(board[7]+'|'+board[8]+'|'+board[9])"
   ]
  },
  {
   "cell_type": "code",
   "execution_count": 2,
   "metadata": {},
   "outputs": [
    {
     "name": "stdout",
     "output_type": "stream",
     "text": [
      "X|O|X\n",
      "O|X|O\n",
      "X|O|X\n"
     ]
    }
   ],
   "source": [
    "test_board = ['#','X','O','X','O','X','O','X','O','X']\n",
    "display_board(test_board)"
   ]
  },
  {
   "cell_type": "code",
   "execution_count": 3,
   "metadata": {},
   "outputs": [],
   "source": [
    "def player_input():\n",
    "    marker = ''\n",
    "    \n",
    "    while marker != 'X' and marker != 'O':\n",
    "        marker = input(\"Player1, Choose X or O: \")\n",
    "        \n",
    "    player1 = marker\n",
    "    \n",
    "    if player1 == 'X':\n",
    "        player2 = 'O'\n",
    "    else:\n",
    "        player2 = 'X'\n",
    "        \n",
    "    return [player1,player2]"
   ]
  },
  {
   "cell_type": "code",
   "execution_count": 4,
   "metadata": {},
   "outputs": [
    {
     "name": "stdout",
     "output_type": "stream",
     "text": [
      "Player1, Choose X or O: X\n"
     ]
    },
    {
     "data": {
      "text/plain": [
       "['X', 'O']"
      ]
     },
     "execution_count": 4,
     "metadata": {},
     "output_type": "execute_result"
    }
   ],
   "source": [
    "player_input()"
   ]
  },
  {
   "cell_type": "code",
   "execution_count": 5,
   "metadata": {},
   "outputs": [],
   "source": [
    "def place_marker(board, marker, position):\n",
    "    board[position] = marker"
   ]
  },
  {
   "cell_type": "code",
   "execution_count": 6,
   "metadata": {
    "scrolled": true
   },
   "outputs": [
    {
     "name": "stdout",
     "output_type": "stream",
     "text": [
      "X|O|X\n",
      "O|X|O\n",
      "X|$|X\n"
     ]
    }
   ],
   "source": [
    "place_marker(test_board,'$',8)\n",
    "display_board(test_board)"
   ]
  },
  {
   "cell_type": "code",
   "execution_count": 7,
   "metadata": {},
   "outputs": [],
   "source": [
    "def win_check(board, mark):\n",
    "    if (board[1]==mark and board[2]==mark and board[3]==mark):\n",
    "        return True\n",
    "    if (board[4]==mark and board[5]==mark and board[6]==mark):\n",
    "        return True\n",
    "    if (board[7]==mark and board[8]==mark and board[9]==mark):\n",
    "        return True\n",
    "    if (board[1]==mark and board[4]==mark and board[7]==mark):\n",
    "        return True\n",
    "    if (board[2]==mark and board[5]==mark and board[8]==mark):\n",
    "        return True\n",
    "    if (board[3]==mark and board[6]==mark and board[9]==mark):\n",
    "        return True\n",
    "    if (board[1]==mark and board[5]==mark and board[9]==mark):\n",
    "        return True\n",
    "    if (board[3]==mark and board[5]==mark and board[7]==mark):\n",
    "        return True"
   ]
  },
  {
   "cell_type": "code",
   "execution_count": 8,
   "metadata": {},
   "outputs": [
    {
     "data": {
      "text/plain": [
       "True"
      ]
     },
     "execution_count": 8,
     "metadata": {},
     "output_type": "execute_result"
    }
   ],
   "source": [
    "win_check(test_board,'X')"
   ]
  },
  {
   "cell_type": "code",
   "execution_count": 9,
   "metadata": {},
   "outputs": [],
   "source": [
    "def choose_first():\n",
    "    import random\n",
    "    x = random.randint(1,2)\n",
    "    print(f\"Player {x} will go first.\")\n",
    "    return x"
   ]
  },
  {
   "cell_type": "code",
   "execution_count": 10,
   "metadata": {},
   "outputs": [],
   "source": [
    "def space_check(board, position):\n",
    "    return board[position] == ' '"
   ]
  },
  {
   "cell_type": "code",
   "execution_count": 11,
   "metadata": {},
   "outputs": [],
   "source": [
    "def full_board_check(board):\n",
    "    for x in board:\n",
    "        if x == ' ':\n",
    "            return False\n",
    "    else:\n",
    "        return True"
   ]
  },
  {
   "cell_type": "code",
   "execution_count": 12,
   "metadata": {},
   "outputs": [],
   "source": [
    "def player_choice(board):\n",
    "    position = ''\n",
    "    a=False\n",
    "    \n",
    "    while not a:\n",
    "        position = int(input(\"Choose your next position: (1-9)\"))\n",
    "        if position in range(1,10) and space_check(board,position):\n",
    "            a = True\n",
    "            \n",
    "    return position"
   ]
  },
  {
   "cell_type": "code",
   "execution_count": 13,
   "metadata": {},
   "outputs": [],
   "source": [
    "def replay():\n",
    "    value = ''\n",
    "    \n",
    "    while value != 'Yes' and value != 'No':\n",
    "        value = input(\"Do you want to play again? Enter Yes or No: \")\n",
    "    \n",
    "    return value == 'Yes'"
   ]
  },
  {
   "cell_type": "code",
   "execution_count": 15,
   "metadata": {},
   "outputs": [
    {
     "name": "stdout",
     "output_type": "stream",
     "text": [
      "X|O|X\n",
      "O|X|O\n",
      "X| | \n",
      "Do you want to play again? Enter Yes or No: 8\n",
      "Do you want to play again? Enter Yes or No: No\n"
     ]
    }
   ],
   "source": [
    "    print('Welcome to Tic Tac Toe!')\n",
    "    \n",
    "    value = True\n",
    "    board = ['',' ',' ',' ',' ',' ',' ',' ',' ',' ']\n",
    "    game_on = True\n",
    "\n",
    "    while value:\n",
    "        a = player_input()\n",
    "        \n",
    "        rand = choose_first()\n",
    "                            \n",
    "        if rand == 2:\n",
    "            a = a[::-1]\n",
    "                    \n",
    "        while game_on:\n",
    "            for marker in a:\n",
    "                position = player_choice(board)\n",
    "                place_marker(board, marker, position)\n",
    "                display_board(board)                \n",
    "                if win_check(board, marker):\n",
    "                    game_on = False\n",
    "                    break                \n",
    "                if full_board_check(board):\n",
    "                    game_on = False\n",
    "                    print('The game is a draw!')\n",
    "                    break\n",
    "        \n",
    "        value = replay()\n",
    "        \n",
    "        if value == True:\n",
    "            game_on = True\n",
    "            board = ['',' ',' ',' ',' ',' ',' ',' ',' ',' ']\n"
   ]
  },
  {
   "cell_type": "code",
   "execution_count": null,
   "metadata": {},
   "outputs": [],
   "source": []
  }
 ],
 "metadata": {
  "kernelspec": {
   "display_name": "Python 3 (ipykernel)",
   "language": "python",
   "name": "python3"
  },
  "language_info": {
   "codemirror_mode": {
    "name": "ipython",
    "version": 3
   },
   "file_extension": ".py",
   "mimetype": "text/x-python",
   "name": "python",
   "nbconvert_exporter": "python",
   "pygments_lexer": "ipython3",
   "version": "3.9.13"
  }
 },
 "nbformat": 4,
 "nbformat_minor": 4
}
